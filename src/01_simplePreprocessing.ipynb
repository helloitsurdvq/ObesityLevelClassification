{
 "cells": [
  {
   "cell_type": "markdown",
   "metadata": {},
   "source": [
    "# Simple preprocessing method"
   ]
  },
  {
   "cell_type": "markdown",
   "metadata": {},
   "source": [
    "**Table of contents**\n",
    "1. [Import libraries](#import-libraries)\n",
    "2. [Data preparation](#data-preparation)\n",
    "3. [Data preprocessing](#data-preprocessing)\n",
    "4. [Setup for the model assessment](#setup)\n",
    "5. [Model training and evaluation](#training-evaluation)"
   ]
  },
  {
   "cell_type": "markdown",
   "metadata": {},
   "source": [
    "<a name=\"import-libraries-\"></a>\n",
    "## 1.Import libraries"
   ]
  },
  {
   "cell_type": "code",
   "execution_count": 1,
   "metadata": {},
   "outputs": [],
   "source": [
    "import numpy as np \n",
    "import pandas as pd\n",
    "import os\n",
    "from tabulate import tabulate\n",
    "import time\n",
    "\n",
    "import matplotlib.pyplot as plt\n",
    "import seaborn as sns\n",
    "import matplotlib.style as style\n",
    "style.use('seaborn-v0_8-darkgrid')\n",
    "plt.rcParams['font.family'] = 'monospace'\n",
    "\n",
    "%matplotlib inline\n",
    "import warnings\n",
    "warnings.filterwarnings(\"ignore\")\n",
    "\n",
    "from sklearn.model_selection import train_test_split, cross_validate, learning_curve, validation_curve, GridSearchCV\n",
    "from sklearn.preprocessing import LabelEncoder, OneHotEncoder, StandardScaler\n",
    "from sklearn.inspection import permutation_importance\n",
    "from sklearn.feature_selection import SelectKBest, chi2\n",
    "from sklearn.metrics import accuracy_score, precision_score, recall_score, f1_score, classification_report, make_scorer\n",
    "from sklearn.utils import shuffle\n",
    "from sklearn.pipeline import make_pipeline\n",
    "from sklearn.feature_selection import SelectKBest, chi2\n",
    "from sklearn.linear_model import LogisticRegression\n",
    "from sklearn.neighbors import KNeighborsClassifier\n",
    "from sklearn.svm import SVC\n",
    "from sklearn.neural_network import MLPClassifier\n",
    "from sklearn.tree import DecisionTreeClassifier\n",
    "from sklearn.ensemble import RandomForestClassifier\n",
    "from xgboost import XGBClassifier"
   ]
  },
  {
   "cell_type": "markdown",
   "metadata": {},
   "source": [
    "<a name=\"data-preparation\"></a>\n",
    "## 2. Data preparation"
   ]
  },
  {
   "cell_type": "code",
   "execution_count": 2,
   "metadata": {},
   "outputs": [
    {
     "name": "stdout",
     "output_type": "stream",
     "text": [
      "| Abbreviation   | Full Form and Unit of Measurement                  |\n",
      "|:---------------|:---------------------------------------------------|\n",
      "| Age            | Years old                                          |\n",
      "| Height         | Height (meter)                                     |\n",
      "| Weight         | Weight (kilogram)                                  |\n",
      "| FAVC           | Frequent consumption of high caloric food          |\n",
      "| FCVC           | Frequency of consumption of vegetables (frequency) |\n",
      "| NCP            | Number of main meals (number)                      |\n",
      "| CAEC           | Consumption of food between meals                  |\n",
      "| CH20           | Consumption of water daily (liter)                 |\n",
      "| CALC           | Consumption of alcohol (frequency)                 |\n",
      "| SCC            | Calories consumption monitoring                    |\n",
      "| FAF            | Physical activity frequency (day/week)             |\n",
      "| TUE            | Time using technology devices (hour/day)           |\n",
      "| MTRANS         | Transportation used                                |\n"
     ]
    }
   ],
   "source": [
    "data = [\n",
    "    [\"Age\", \"Years old\"],\n",
    "    [\"Height\", \"Height (meter)\"],\n",
    "    [\"Weight\", \"Weight (kilogram)\"],\n",
    "    [\"FAVC\", \"Frequent consumption of high caloric food\"],\n",
    "    [\"FCVC\", \"Frequency of consumption of vegetables (frequency)\"],\n",
    "    [\"NCP\", \"Number of main meals (number)\"],\n",
    "    [\"CAEC\", \"Consumption of food between meals\"],\n",
    "    [\"CH20\", \"Consumption of water daily (liter)\"],\n",
    "    [\"CALC\", \"Consumption of alcohol (frequency)\"],\n",
    "    [\"SCC\", \"Calories consumption monitoring\"],\n",
    "    [\"FAF\", \"Physical activity frequency (day/week)\"],\n",
    "    [\"TUE\", \"Time using technology devices (hour/day)\"],\n",
    "    [\"MTRANS\", \"Transportation used \"]\n",
    "]\n",
    "headers = [\"Abbreviation\", \"Full Form and Unit of Measurement\"]\n",
    "\n",
    "table = tabulate(data, headers, tablefmt=\"pipe\")\n",
    "print(table)"
   ]
  },
  {
   "cell_type": "code",
   "execution_count": 3,
   "metadata": {},
   "outputs": [
    {
     "data": {
      "text/html": [
       "<div>\n",
       "<style scoped>\n",
       "    .dataframe tbody tr th:only-of-type {\n",
       "        vertical-align: middle;\n",
       "    }\n",
       "\n",
       "    .dataframe tbody tr th {\n",
       "        vertical-align: top;\n",
       "    }\n",
       "\n",
       "    .dataframe thead th {\n",
       "        text-align: right;\n",
       "    }\n",
       "</style>\n",
       "<table border=\"1\" class=\"dataframe\">\n",
       "  <thead>\n",
       "    <tr style=\"text-align: right;\">\n",
       "      <th></th>\n",
       "      <th>Gender</th>\n",
       "      <th>Age</th>\n",
       "      <th>Height</th>\n",
       "      <th>Weight</th>\n",
       "      <th>family_history_with_overweight</th>\n",
       "      <th>FAVC</th>\n",
       "      <th>FCVC</th>\n",
       "      <th>NCP</th>\n",
       "      <th>CAEC</th>\n",
       "      <th>SMOKE</th>\n",
       "      <th>CH2O</th>\n",
       "      <th>SCC</th>\n",
       "      <th>FAF</th>\n",
       "      <th>TUE</th>\n",
       "      <th>CALC</th>\n",
       "      <th>MTRANS</th>\n",
       "      <th>NObeyesdad</th>\n",
       "    </tr>\n",
       "  </thead>\n",
       "  <tbody>\n",
       "    <tr>\n",
       "      <th>0</th>\n",
       "      <td>Female</td>\n",
       "      <td>21.0</td>\n",
       "      <td>1.62</td>\n",
       "      <td>64.0</td>\n",
       "      <td>yes</td>\n",
       "      <td>no</td>\n",
       "      <td>2.0</td>\n",
       "      <td>3.0</td>\n",
       "      <td>Sometimes</td>\n",
       "      <td>no</td>\n",
       "      <td>2.0</td>\n",
       "      <td>no</td>\n",
       "      <td>0.0</td>\n",
       "      <td>1.0</td>\n",
       "      <td>no</td>\n",
       "      <td>Public_Transportation</td>\n",
       "      <td>Normal_Weight</td>\n",
       "    </tr>\n",
       "    <tr>\n",
       "      <th>1</th>\n",
       "      <td>Female</td>\n",
       "      <td>21.0</td>\n",
       "      <td>1.52</td>\n",
       "      <td>56.0</td>\n",
       "      <td>yes</td>\n",
       "      <td>no</td>\n",
       "      <td>3.0</td>\n",
       "      <td>3.0</td>\n",
       "      <td>Sometimes</td>\n",
       "      <td>yes</td>\n",
       "      <td>3.0</td>\n",
       "      <td>yes</td>\n",
       "      <td>3.0</td>\n",
       "      <td>0.0</td>\n",
       "      <td>Sometimes</td>\n",
       "      <td>Public_Transportation</td>\n",
       "      <td>Normal_Weight</td>\n",
       "    </tr>\n",
       "    <tr>\n",
       "      <th>2</th>\n",
       "      <td>Male</td>\n",
       "      <td>23.0</td>\n",
       "      <td>1.80</td>\n",
       "      <td>77.0</td>\n",
       "      <td>yes</td>\n",
       "      <td>no</td>\n",
       "      <td>2.0</td>\n",
       "      <td>3.0</td>\n",
       "      <td>Sometimes</td>\n",
       "      <td>no</td>\n",
       "      <td>2.0</td>\n",
       "      <td>no</td>\n",
       "      <td>2.0</td>\n",
       "      <td>1.0</td>\n",
       "      <td>Frequently</td>\n",
       "      <td>Public_Transportation</td>\n",
       "      <td>Normal_Weight</td>\n",
       "    </tr>\n",
       "    <tr>\n",
       "      <th>3</th>\n",
       "      <td>Male</td>\n",
       "      <td>27.0</td>\n",
       "      <td>1.80</td>\n",
       "      <td>87.0</td>\n",
       "      <td>no</td>\n",
       "      <td>no</td>\n",
       "      <td>3.0</td>\n",
       "      <td>3.0</td>\n",
       "      <td>Sometimes</td>\n",
       "      <td>no</td>\n",
       "      <td>2.0</td>\n",
       "      <td>no</td>\n",
       "      <td>2.0</td>\n",
       "      <td>0.0</td>\n",
       "      <td>Frequently</td>\n",
       "      <td>Walking</td>\n",
       "      <td>Overweight_Level_I</td>\n",
       "    </tr>\n",
       "    <tr>\n",
       "      <th>4</th>\n",
       "      <td>Male</td>\n",
       "      <td>22.0</td>\n",
       "      <td>1.78</td>\n",
       "      <td>89.8</td>\n",
       "      <td>no</td>\n",
       "      <td>no</td>\n",
       "      <td>2.0</td>\n",
       "      <td>1.0</td>\n",
       "      <td>Sometimes</td>\n",
       "      <td>no</td>\n",
       "      <td>2.0</td>\n",
       "      <td>no</td>\n",
       "      <td>0.0</td>\n",
       "      <td>0.0</td>\n",
       "      <td>Sometimes</td>\n",
       "      <td>Public_Transportation</td>\n",
       "      <td>Overweight_Level_II</td>\n",
       "    </tr>\n",
       "  </tbody>\n",
       "</table>\n",
       "</div>"
      ],
      "text/plain": [
       "   Gender   Age  Height  Weight family_history_with_overweight FAVC  FCVC  \\\n",
       "0  Female  21.0    1.62    64.0                            yes   no   2.0   \n",
       "1  Female  21.0    1.52    56.0                            yes   no   3.0   \n",
       "2    Male  23.0    1.80    77.0                            yes   no   2.0   \n",
       "3    Male  27.0    1.80    87.0                             no   no   3.0   \n",
       "4    Male  22.0    1.78    89.8                             no   no   2.0   \n",
       "\n",
       "   NCP       CAEC SMOKE  CH2O  SCC  FAF  TUE        CALC  \\\n",
       "0  3.0  Sometimes    no   2.0   no  0.0  1.0          no   \n",
       "1  3.0  Sometimes   yes   3.0  yes  3.0  0.0   Sometimes   \n",
       "2  3.0  Sometimes    no   2.0   no  2.0  1.0  Frequently   \n",
       "3  3.0  Sometimes    no   2.0   no  2.0  0.0  Frequently   \n",
       "4  1.0  Sometimes    no   2.0   no  0.0  0.0   Sometimes   \n",
       "\n",
       "                  MTRANS           NObeyesdad  \n",
       "0  Public_Transportation        Normal_Weight  \n",
       "1  Public_Transportation        Normal_Weight  \n",
       "2  Public_Transportation        Normal_Weight  \n",
       "3                Walking   Overweight_Level_I  \n",
       "4  Public_Transportation  Overweight_Level_II  "
      ]
     },
     "execution_count": 3,
     "metadata": {},
     "output_type": "execute_result"
    }
   ],
   "source": [
    "df = pd.read_csv('../data/ObesityDataSet.csv')\n",
    "df.head()"
   ]
  },
  {
   "cell_type": "code",
   "execution_count": 4,
   "metadata": {},
   "outputs": [
    {
     "data": {
      "text/plain": [
       "Index(['Gender', 'Age', 'Height', 'Weight', 'family_history_with_overweight',\n",
       "       'FAVC', 'FCVC', 'NCP', 'CAEC', 'SMOKE', 'CH2O', 'SCC', 'FAF', 'TUE',\n",
       "       'CALC', 'MTRANS', 'NObeyesdad'],\n",
       "      dtype='object')"
      ]
     },
     "execution_count": 4,
     "metadata": {},
     "output_type": "execute_result"
    }
   ],
   "source": [
    "df.columns"
   ]
  },
  {
   "cell_type": "code",
   "execution_count": 5,
   "metadata": {},
   "outputs": [
    {
     "name": "stdout",
     "output_type": "stream",
     "text": [
      "<class 'pandas.core.frame.DataFrame'>\n",
      "RangeIndex: 2111 entries, 0 to 2110\n",
      "Data columns (total 17 columns):\n",
      " #   Column                          Non-Null Count  Dtype  \n",
      "---  ------                          --------------  -----  \n",
      " 0   Gender                          2111 non-null   object \n",
      " 1   Age                             2111 non-null   float64\n",
      " 2   Height                          2111 non-null   float64\n",
      " 3   Weight                          2111 non-null   float64\n",
      " 4   family_history_with_overweight  2111 non-null   object \n",
      " 5   FAVC                            2111 non-null   object \n",
      " 6   FCVC                            2111 non-null   float64\n",
      " 7   NCP                             2111 non-null   float64\n",
      " 8   CAEC                            2111 non-null   object \n",
      " 9   SMOKE                           2111 non-null   object \n",
      " 10  CH2O                            2111 non-null   float64\n",
      " 11  SCC                             2111 non-null   object \n",
      " 12  FAF                             2111 non-null   float64\n",
      " 13  TUE                             2111 non-null   float64\n",
      " 14  CALC                            2111 non-null   object \n",
      " 15  MTRANS                          2111 non-null   object \n",
      " 16  NObeyesdad                      2111 non-null   object \n",
      "dtypes: float64(8), object(9)\n",
      "memory usage: 280.5+ KB\n"
     ]
    }
   ],
   "source": [
    "df.info()"
   ]
  },
  {
   "cell_type": "code",
   "execution_count": 6,
   "metadata": {},
   "outputs": [
    {
     "name": "stdout",
     "output_type": "stream",
     "text": [
      "Numerical Columns:  ['Age', 'Height', 'Weight', 'FCVC', 'NCP', 'CH2O', 'FAF', 'TUE']\n",
      "Categorical Columns:  ['Gender', 'family_history_with_overweight', 'FAVC', 'CAEC', 'SMOKE', 'SCC', 'CALC', 'MTRANS', 'NObeyesdad']\n"
     ]
    }
   ],
   "source": [
    "numerical_cols = [cname for cname in df.columns if df[cname].dtype in ['int64', 'float64']]\n",
    "categorical_cols = [cname for cname in df.columns if df[cname].dtype == \"object\"]\n",
    "\n",
    "# Printing numerical and categorical column lists\n",
    "print('Numerical Columns: ', numerical_cols)\n",
    "print('Categorical Columns: ', categorical_cols)"
   ]
  },
  {
   "cell_type": "code",
   "execution_count": 7,
   "metadata": {},
   "outputs": [
    {
     "data": {
      "text/html": [
       "<div>\n",
       "<style scoped>\n",
       "    .dataframe tbody tr th:only-of-type {\n",
       "        vertical-align: middle;\n",
       "    }\n",
       "\n",
       "    .dataframe tbody tr th {\n",
       "        vertical-align: top;\n",
       "    }\n",
       "\n",
       "    .dataframe thead th {\n",
       "        text-align: right;\n",
       "    }\n",
       "</style>\n",
       "<table border=\"1\" class=\"dataframe\">\n",
       "  <thead>\n",
       "    <tr style=\"text-align: right;\">\n",
       "      <th></th>\n",
       "      <th>Age</th>\n",
       "      <th>Height</th>\n",
       "      <th>Weight</th>\n",
       "      <th>FCVC</th>\n",
       "      <th>NCP</th>\n",
       "      <th>CH2O</th>\n",
       "      <th>FAF</th>\n",
       "      <th>TUE</th>\n",
       "    </tr>\n",
       "  </thead>\n",
       "  <tbody>\n",
       "    <tr>\n",
       "      <th>count</th>\n",
       "      <td>2111.000000</td>\n",
       "      <td>2111.000000</td>\n",
       "      <td>2111.000000</td>\n",
       "      <td>2111.000000</td>\n",
       "      <td>2111.000000</td>\n",
       "      <td>2111.000000</td>\n",
       "      <td>2111.000000</td>\n",
       "      <td>2111.000000</td>\n",
       "    </tr>\n",
       "    <tr>\n",
       "      <th>mean</th>\n",
       "      <td>24.312600</td>\n",
       "      <td>1.701677</td>\n",
       "      <td>86.586058</td>\n",
       "      <td>2.419043</td>\n",
       "      <td>2.685628</td>\n",
       "      <td>2.008011</td>\n",
       "      <td>1.010298</td>\n",
       "      <td>0.657866</td>\n",
       "    </tr>\n",
       "    <tr>\n",
       "      <th>std</th>\n",
       "      <td>6.345968</td>\n",
       "      <td>0.093305</td>\n",
       "      <td>26.191172</td>\n",
       "      <td>0.533927</td>\n",
       "      <td>0.778039</td>\n",
       "      <td>0.612953</td>\n",
       "      <td>0.850592</td>\n",
       "      <td>0.608927</td>\n",
       "    </tr>\n",
       "    <tr>\n",
       "      <th>min</th>\n",
       "      <td>14.000000</td>\n",
       "      <td>1.450000</td>\n",
       "      <td>39.000000</td>\n",
       "      <td>1.000000</td>\n",
       "      <td>1.000000</td>\n",
       "      <td>1.000000</td>\n",
       "      <td>0.000000</td>\n",
       "      <td>0.000000</td>\n",
       "    </tr>\n",
       "    <tr>\n",
       "      <th>25%</th>\n",
       "      <td>19.947192</td>\n",
       "      <td>1.630000</td>\n",
       "      <td>65.473343</td>\n",
       "      <td>2.000000</td>\n",
       "      <td>2.658738</td>\n",
       "      <td>1.584812</td>\n",
       "      <td>0.124505</td>\n",
       "      <td>0.000000</td>\n",
       "    </tr>\n",
       "    <tr>\n",
       "      <th>50%</th>\n",
       "      <td>22.777890</td>\n",
       "      <td>1.700499</td>\n",
       "      <td>83.000000</td>\n",
       "      <td>2.385502</td>\n",
       "      <td>3.000000</td>\n",
       "      <td>2.000000</td>\n",
       "      <td>1.000000</td>\n",
       "      <td>0.625350</td>\n",
       "    </tr>\n",
       "    <tr>\n",
       "      <th>75%</th>\n",
       "      <td>26.000000</td>\n",
       "      <td>1.768464</td>\n",
       "      <td>107.430682</td>\n",
       "      <td>3.000000</td>\n",
       "      <td>3.000000</td>\n",
       "      <td>2.477420</td>\n",
       "      <td>1.666678</td>\n",
       "      <td>1.000000</td>\n",
       "    </tr>\n",
       "    <tr>\n",
       "      <th>max</th>\n",
       "      <td>61.000000</td>\n",
       "      <td>1.980000</td>\n",
       "      <td>173.000000</td>\n",
       "      <td>3.000000</td>\n",
       "      <td>4.000000</td>\n",
       "      <td>3.000000</td>\n",
       "      <td>3.000000</td>\n",
       "      <td>2.000000</td>\n",
       "    </tr>\n",
       "  </tbody>\n",
       "</table>\n",
       "</div>"
      ],
      "text/plain": [
       "               Age       Height       Weight         FCVC          NCP  \\\n",
       "count  2111.000000  2111.000000  2111.000000  2111.000000  2111.000000   \n",
       "mean     24.312600     1.701677    86.586058     2.419043     2.685628   \n",
       "std       6.345968     0.093305    26.191172     0.533927     0.778039   \n",
       "min      14.000000     1.450000    39.000000     1.000000     1.000000   \n",
       "25%      19.947192     1.630000    65.473343     2.000000     2.658738   \n",
       "50%      22.777890     1.700499    83.000000     2.385502     3.000000   \n",
       "75%      26.000000     1.768464   107.430682     3.000000     3.000000   \n",
       "max      61.000000     1.980000   173.000000     3.000000     4.000000   \n",
       "\n",
       "              CH2O          FAF          TUE  \n",
       "count  2111.000000  2111.000000  2111.000000  \n",
       "mean      2.008011     1.010298     0.657866  \n",
       "std       0.612953     0.850592     0.608927  \n",
       "min       1.000000     0.000000     0.000000  \n",
       "25%       1.584812     0.124505     0.000000  \n",
       "50%       2.000000     1.000000     0.625350  \n",
       "75%       2.477420     1.666678     1.000000  \n",
       "max       3.000000     3.000000     2.000000  "
      ]
     },
     "execution_count": 7,
     "metadata": {},
     "output_type": "execute_result"
    }
   ],
   "source": [
    "df.describe()"
   ]
  },
  {
   "cell_type": "markdown",
   "metadata": {},
   "source": [
    "### Check for duplicates"
   ]
  },
  {
   "cell_type": "code",
   "execution_count": 8,
   "metadata": {},
   "outputs": [
    {
     "data": {
      "text/plain": [
       "24"
      ]
     },
     "execution_count": 8,
     "metadata": {},
     "output_type": "execute_result"
    }
   ],
   "source": [
    "df.duplicated().sum()"
   ]
  },
  {
   "cell_type": "code",
   "execution_count": 9,
   "metadata": {},
   "outputs": [],
   "source": [
    "# drop duplicate\n",
    "df.drop_duplicates(inplace=True)\n",
    "df.reset_index(inplace=True, drop=True)"
   ]
  },
  {
   "cell_type": "code",
   "execution_count": 10,
   "metadata": {},
   "outputs": [
    {
     "data": {
      "text/plain": [
       "Gender                            0\n",
       "Age                               0\n",
       "Height                            0\n",
       "Weight                            0\n",
       "family_history_with_overweight    0\n",
       "FAVC                              0\n",
       "FCVC                              0\n",
       "NCP                               0\n",
       "CAEC                              0\n",
       "SMOKE                             0\n",
       "CH2O                              0\n",
       "SCC                               0\n",
       "FAF                               0\n",
       "TUE                               0\n",
       "CALC                              0\n",
       "MTRANS                            0\n",
       "NObeyesdad                        0\n",
       "dtype: int64"
      ]
     },
     "execution_count": 10,
     "metadata": {},
     "output_type": "execute_result"
    }
   ],
   "source": [
    "df.isnull().sum()"
   ]
  },
  {
   "cell_type": "markdown",
   "metadata": {},
   "source": [
    "<a name=\"datapreprocessing-\"></a>\n",
    "## 3. Data preprocessing\n",
    "In this part, we try to ony use the label encoder for the data preprocessing\n",
    "\n",
    "**Input**: The dataset\n",
    "\n",
    "**Output**: The dataset `df_copy` (without target labels), the target labels `y`"
   ]
  },
  {
   "cell_type": "code",
   "execution_count": 11,
   "metadata": {},
   "outputs": [],
   "source": [
    "def simple_data_preprocessing(raw: pd.DataFrame):\n",
    "    '''\n",
    "    Simple data processing without thinking about data relationship too much\n",
    "    '''\n",
    "    le = LabelEncoder()\n",
    "    df_copy = raw.copy()\n",
    "    label_mappings = {\n",
    "        \"Gender\": {\"Male\": 1, \"Female\": 0},\n",
    "        \"family_history_with_overweight\": {\"yes\": 1, \"no\": 0},\n",
    "        \"FAVC\": {\"yes\": 1, \"no\": 0},\n",
    "        \"CAEC\": {\"Always\": 0, \"Frequently\": 1, \"Sometimes\": 2, \"no\": 3},\n",
    "        \"SMOKE\": {\"yes\": 1, \"no\": 0},\n",
    "        \"SCC\": {\"yes\": 1, \"no\": 0},\n",
    "        \"CALC\": {\"Always\": 0, \"Frequently\": 1, \"Sometimes\": 2, \"no\": 3},\n",
    "        \"MTRANS\": {\"Automobile\": 0, \"Bike\": 1, \"Motorbike\": 2, \"Public_Transportation\": 3, \"Walking\": 4}\n",
    "    }\n",
    "    y = df_copy['NObeyesdad']\n",
    "    df_copy.drop(columns='NObeyesdad', inplace=True)\n",
    "    \n",
    "    for col in df_copy.columns:\n",
    "        if df_copy[col].dtype == 'object':\n",
    "            df_copy[col] = df_copy[col].map(label_mappings.get(col, df_copy[col]))\n",
    "    \n",
    "    return df_copy, y"
   ]
  },
  {
   "cell_type": "code",
   "execution_count": 12,
   "metadata": {},
   "outputs": [],
   "source": [
    "def simple_data_preprocessing_testing(raw: pd.DataFrame):\n",
    "    df_copy = raw.copy()\n",
    "    label_mappings = {\n",
    "        \"Gender\": {\"Male\": 1, \"Female\": 0},\n",
    "        \"family_history_with_overweight\": {\"yes\": 1, \"no\": 0},\n",
    "        \"FAVC\": {\"yes\": 1, \"no\": 0},\n",
    "        \"CAEC\": {\"Always\": 0, \"Frequently\": 1, \"Sometimes\": 2, \"no\": 3},\n",
    "        \"SMOKE\": {\"yes\": 1, \"no\": 0},\n",
    "        \"SCC\": {\"yes\": 1, \"no\": 0},\n",
    "        \"CALC\": {\"Always\": 0, \"Frequently\": 1, \"Sometimes\": 2, \"no\": 3},\n",
    "        \"MTRANS\": {\"Automobile\": 0, \"Bike\": 1, \"Motorbike\": 2, \"Public_Transportation\": 3, \"Walking\": 4}\n",
    "    }\n",
    "    \n",
    "    for col in df_copy.columns:\n",
    "        if df_copy[col].dtype == 'object':\n",
    "            df_copy[col] = df_copy[col].map(label_mappings.get(col, df_copy[col]))\n",
    "    \n",
    "    return df_copy"
   ]
  },
  {
   "cell_type": "code",
   "execution_count": 13,
   "metadata": {},
   "outputs": [],
   "source": [
    "X, y = simple_data_preprocessing(df)"
   ]
  },
  {
   "cell_type": "markdown",
   "metadata": {},
   "source": [
    "### Output of data preprocessing function"
   ]
  },
  {
   "cell_type": "code",
   "execution_count": 14,
   "metadata": {},
   "outputs": [
    {
     "data": {
      "text/html": [
       "<div>\n",
       "<style scoped>\n",
       "    .dataframe tbody tr th:only-of-type {\n",
       "        vertical-align: middle;\n",
       "    }\n",
       "\n",
       "    .dataframe tbody tr th {\n",
       "        vertical-align: top;\n",
       "    }\n",
       "\n",
       "    .dataframe thead th {\n",
       "        text-align: right;\n",
       "    }\n",
       "</style>\n",
       "<table border=\"1\" class=\"dataframe\">\n",
       "  <thead>\n",
       "    <tr style=\"text-align: right;\">\n",
       "      <th></th>\n",
       "      <th>Gender</th>\n",
       "      <th>Age</th>\n",
       "      <th>Height</th>\n",
       "      <th>Weight</th>\n",
       "      <th>family_history_with_overweight</th>\n",
       "      <th>FAVC</th>\n",
       "      <th>FCVC</th>\n",
       "      <th>NCP</th>\n",
       "      <th>CAEC</th>\n",
       "      <th>SMOKE</th>\n",
       "      <th>CH2O</th>\n",
       "      <th>SCC</th>\n",
       "      <th>FAF</th>\n",
       "      <th>TUE</th>\n",
       "      <th>CALC</th>\n",
       "      <th>MTRANS</th>\n",
       "    </tr>\n",
       "  </thead>\n",
       "  <tbody>\n",
       "    <tr>\n",
       "      <th>0</th>\n",
       "      <td>0</td>\n",
       "      <td>21.000000</td>\n",
       "      <td>1.620000</td>\n",
       "      <td>64.000000</td>\n",
       "      <td>1</td>\n",
       "      <td>0</td>\n",
       "      <td>2.0</td>\n",
       "      <td>3.0</td>\n",
       "      <td>2</td>\n",
       "      <td>0</td>\n",
       "      <td>2.000000</td>\n",
       "      <td>0</td>\n",
       "      <td>0.000000</td>\n",
       "      <td>1.000000</td>\n",
       "      <td>3</td>\n",
       "      <td>3</td>\n",
       "    </tr>\n",
       "    <tr>\n",
       "      <th>1</th>\n",
       "      <td>0</td>\n",
       "      <td>21.000000</td>\n",
       "      <td>1.520000</td>\n",
       "      <td>56.000000</td>\n",
       "      <td>1</td>\n",
       "      <td>0</td>\n",
       "      <td>3.0</td>\n",
       "      <td>3.0</td>\n",
       "      <td>2</td>\n",
       "      <td>1</td>\n",
       "      <td>3.000000</td>\n",
       "      <td>1</td>\n",
       "      <td>3.000000</td>\n",
       "      <td>0.000000</td>\n",
       "      <td>2</td>\n",
       "      <td>3</td>\n",
       "    </tr>\n",
       "    <tr>\n",
       "      <th>2</th>\n",
       "      <td>1</td>\n",
       "      <td>23.000000</td>\n",
       "      <td>1.800000</td>\n",
       "      <td>77.000000</td>\n",
       "      <td>1</td>\n",
       "      <td>0</td>\n",
       "      <td>2.0</td>\n",
       "      <td>3.0</td>\n",
       "      <td>2</td>\n",
       "      <td>0</td>\n",
       "      <td>2.000000</td>\n",
       "      <td>0</td>\n",
       "      <td>2.000000</td>\n",
       "      <td>1.000000</td>\n",
       "      <td>1</td>\n",
       "      <td>3</td>\n",
       "    </tr>\n",
       "    <tr>\n",
       "      <th>3</th>\n",
       "      <td>1</td>\n",
       "      <td>27.000000</td>\n",
       "      <td>1.800000</td>\n",
       "      <td>87.000000</td>\n",
       "      <td>0</td>\n",
       "      <td>0</td>\n",
       "      <td>3.0</td>\n",
       "      <td>3.0</td>\n",
       "      <td>2</td>\n",
       "      <td>0</td>\n",
       "      <td>2.000000</td>\n",
       "      <td>0</td>\n",
       "      <td>2.000000</td>\n",
       "      <td>0.000000</td>\n",
       "      <td>1</td>\n",
       "      <td>4</td>\n",
       "    </tr>\n",
       "    <tr>\n",
       "      <th>4</th>\n",
       "      <td>1</td>\n",
       "      <td>22.000000</td>\n",
       "      <td>1.780000</td>\n",
       "      <td>89.800000</td>\n",
       "      <td>0</td>\n",
       "      <td>0</td>\n",
       "      <td>2.0</td>\n",
       "      <td>1.0</td>\n",
       "      <td>2</td>\n",
       "      <td>0</td>\n",
       "      <td>2.000000</td>\n",
       "      <td>0</td>\n",
       "      <td>0.000000</td>\n",
       "      <td>0.000000</td>\n",
       "      <td>2</td>\n",
       "      <td>3</td>\n",
       "    </tr>\n",
       "    <tr>\n",
       "      <th>...</th>\n",
       "      <td>...</td>\n",
       "      <td>...</td>\n",
       "      <td>...</td>\n",
       "      <td>...</td>\n",
       "      <td>...</td>\n",
       "      <td>...</td>\n",
       "      <td>...</td>\n",
       "      <td>...</td>\n",
       "      <td>...</td>\n",
       "      <td>...</td>\n",
       "      <td>...</td>\n",
       "      <td>...</td>\n",
       "      <td>...</td>\n",
       "      <td>...</td>\n",
       "      <td>...</td>\n",
       "      <td>...</td>\n",
       "    </tr>\n",
       "    <tr>\n",
       "      <th>2082</th>\n",
       "      <td>0</td>\n",
       "      <td>20.976842</td>\n",
       "      <td>1.710730</td>\n",
       "      <td>131.408528</td>\n",
       "      <td>1</td>\n",
       "      <td>1</td>\n",
       "      <td>3.0</td>\n",
       "      <td>3.0</td>\n",
       "      <td>2</td>\n",
       "      <td>0</td>\n",
       "      <td>1.728139</td>\n",
       "      <td>0</td>\n",
       "      <td>1.676269</td>\n",
       "      <td>0.906247</td>\n",
       "      <td>2</td>\n",
       "      <td>3</td>\n",
       "    </tr>\n",
       "    <tr>\n",
       "      <th>2083</th>\n",
       "      <td>0</td>\n",
       "      <td>21.982942</td>\n",
       "      <td>1.748584</td>\n",
       "      <td>133.742943</td>\n",
       "      <td>1</td>\n",
       "      <td>1</td>\n",
       "      <td>3.0</td>\n",
       "      <td>3.0</td>\n",
       "      <td>2</td>\n",
       "      <td>0</td>\n",
       "      <td>2.005130</td>\n",
       "      <td>0</td>\n",
       "      <td>1.341390</td>\n",
       "      <td>0.599270</td>\n",
       "      <td>2</td>\n",
       "      <td>3</td>\n",
       "    </tr>\n",
       "    <tr>\n",
       "      <th>2084</th>\n",
       "      <td>0</td>\n",
       "      <td>22.524036</td>\n",
       "      <td>1.752206</td>\n",
       "      <td>133.689352</td>\n",
       "      <td>1</td>\n",
       "      <td>1</td>\n",
       "      <td>3.0</td>\n",
       "      <td>3.0</td>\n",
       "      <td>2</td>\n",
       "      <td>0</td>\n",
       "      <td>2.054193</td>\n",
       "      <td>0</td>\n",
       "      <td>1.414209</td>\n",
       "      <td>0.646288</td>\n",
       "      <td>2</td>\n",
       "      <td>3</td>\n",
       "    </tr>\n",
       "    <tr>\n",
       "      <th>2085</th>\n",
       "      <td>0</td>\n",
       "      <td>24.361936</td>\n",
       "      <td>1.739450</td>\n",
       "      <td>133.346641</td>\n",
       "      <td>1</td>\n",
       "      <td>1</td>\n",
       "      <td>3.0</td>\n",
       "      <td>3.0</td>\n",
       "      <td>2</td>\n",
       "      <td>0</td>\n",
       "      <td>2.852339</td>\n",
       "      <td>0</td>\n",
       "      <td>1.139107</td>\n",
       "      <td>0.586035</td>\n",
       "      <td>2</td>\n",
       "      <td>3</td>\n",
       "    </tr>\n",
       "    <tr>\n",
       "      <th>2086</th>\n",
       "      <td>0</td>\n",
       "      <td>23.664709</td>\n",
       "      <td>1.738836</td>\n",
       "      <td>133.472641</td>\n",
       "      <td>1</td>\n",
       "      <td>1</td>\n",
       "      <td>3.0</td>\n",
       "      <td>3.0</td>\n",
       "      <td>2</td>\n",
       "      <td>0</td>\n",
       "      <td>2.863513</td>\n",
       "      <td>0</td>\n",
       "      <td>1.026452</td>\n",
       "      <td>0.714137</td>\n",
       "      <td>2</td>\n",
       "      <td>3</td>\n",
       "    </tr>\n",
       "  </tbody>\n",
       "</table>\n",
       "<p>2087 rows × 16 columns</p>\n",
       "</div>"
      ],
      "text/plain": [
       "      Gender        Age    Height      Weight  family_history_with_overweight  \\\n",
       "0          0  21.000000  1.620000   64.000000                               1   \n",
       "1          0  21.000000  1.520000   56.000000                               1   \n",
       "2          1  23.000000  1.800000   77.000000                               1   \n",
       "3          1  27.000000  1.800000   87.000000                               0   \n",
       "4          1  22.000000  1.780000   89.800000                               0   \n",
       "...      ...        ...       ...         ...                             ...   \n",
       "2082       0  20.976842  1.710730  131.408528                               1   \n",
       "2083       0  21.982942  1.748584  133.742943                               1   \n",
       "2084       0  22.524036  1.752206  133.689352                               1   \n",
       "2085       0  24.361936  1.739450  133.346641                               1   \n",
       "2086       0  23.664709  1.738836  133.472641                               1   \n",
       "\n",
       "      FAVC  FCVC  NCP  CAEC  SMOKE      CH2O  SCC       FAF       TUE  CALC  \\\n",
       "0        0   2.0  3.0     2      0  2.000000    0  0.000000  1.000000     3   \n",
       "1        0   3.0  3.0     2      1  3.000000    1  3.000000  0.000000     2   \n",
       "2        0   2.0  3.0     2      0  2.000000    0  2.000000  1.000000     1   \n",
       "3        0   3.0  3.0     2      0  2.000000    0  2.000000  0.000000     1   \n",
       "4        0   2.0  1.0     2      0  2.000000    0  0.000000  0.000000     2   \n",
       "...    ...   ...  ...   ...    ...       ...  ...       ...       ...   ...   \n",
       "2082     1   3.0  3.0     2      0  1.728139    0  1.676269  0.906247     2   \n",
       "2083     1   3.0  3.0     2      0  2.005130    0  1.341390  0.599270     2   \n",
       "2084     1   3.0  3.0     2      0  2.054193    0  1.414209  0.646288     2   \n",
       "2085     1   3.0  3.0     2      0  2.852339    0  1.139107  0.586035     2   \n",
       "2086     1   3.0  3.0     2      0  2.863513    0  1.026452  0.714137     2   \n",
       "\n",
       "      MTRANS  \n",
       "0          3  \n",
       "1          3  \n",
       "2          3  \n",
       "3          4  \n",
       "4          3  \n",
       "...      ...  \n",
       "2082       3  \n",
       "2083       3  \n",
       "2084       3  \n",
       "2085       3  \n",
       "2086       3  \n",
       "\n",
       "[2087 rows x 16 columns]"
      ]
     },
     "execution_count": 14,
     "metadata": {},
     "output_type": "execute_result"
    }
   ],
   "source": [
    "X"
   ]
  },
  {
   "cell_type": "code",
   "execution_count": 15,
   "metadata": {},
   "outputs": [
    {
     "data": {
      "text/plain": [
       "0             Normal_Weight\n",
       "1             Normal_Weight\n",
       "2             Normal_Weight\n",
       "3        Overweight_Level_I\n",
       "4       Overweight_Level_II\n",
       "               ...         \n",
       "2082       Obesity_Type_III\n",
       "2083       Obesity_Type_III\n",
       "2084       Obesity_Type_III\n",
       "2085       Obesity_Type_III\n",
       "2086       Obesity_Type_III\n",
       "Name: NObeyesdad, Length: 2087, dtype: object"
      ]
     },
     "execution_count": 15,
     "metadata": {},
     "output_type": "execute_result"
    }
   ],
   "source": [
    "y"
   ]
  },
  {
   "cell_type": "code",
   "execution_count": 16,
   "metadata": {},
   "outputs": [
    {
     "data": {
      "text/plain": [
       "((2087, 16), (2087,))"
      ]
     },
     "execution_count": 16,
     "metadata": {},
     "output_type": "execute_result"
    }
   ],
   "source": [
    "X.shape, y.shape"
   ]
  },
  {
   "cell_type": "markdown",
   "metadata": {},
   "source": [
    "<a name=\"setup\"></a>\n",
    "## 4. Setup for the model assessment \n",
    "- Evaluation metrics: `accuracy`, `f1_score`\n",
    "- Random state = 1000\n",
    "- Learning curve"
   ]
  },
  {
   "cell_type": "code",
   "execution_count": 17,
   "metadata": {},
   "outputs": [],
   "source": [
    "RANDOM_STATE = 42\n",
    "\n",
    "def my_accuracy_score(y_true, y_pred):\n",
    "  return accuracy_score(y_true, y_pred)\n",
    "\n",
    "def my_f1_score(y_true, y_pred):\n",
    "  return f1_score(y_true, y_pred, average='weighted')\n",
    "\n",
    "accuracy_scorer = make_scorer(my_accuracy_score, greater_is_better=True)\n",
    "f1_scorer = make_scorer(my_f1_score, greater_is_better=True)\n",
    "\n",
    "def feature_importance(model, X, y): # for ensemble learning model\n",
    "  model.fit(X, y)\n",
    "  feature_importance = model.feature_importances_\n",
    "  feature_importance_df = pd.DataFrame(feature_importance, index=X.columns, columns=['Importances'])\n",
    "  return feature_importance_df.sort_values(by=['Importances'], ascending=False)\n",
    "\n",
    "def permutation_importance_model(model, X, y): # for linear classification model \n",
    "  model.fit(X, y)\n",
    "  model_fi = permutation_importance(model, X, y)\n",
    "  model_fi_df = pd.DataFrame(model_fi, index=X.columns, columns=['importances_mean']) \n",
    "  model_fi_df = model_fi_df.rename(columns={'importances_mean': 'Importances'})\n",
    "  return model_fi_df.sort_values(by=['Importances'], ascending=False)\n",
    "\n",
    "def plot_learning_curve(train_sizes, train_scores, valid_scores, title = \"Learning Curve\", y_label = \"Accuracy Score\"):\n",
    "  fig, ax = plt.subplots(figsize = (10, 6))\n",
    "  train_scores = np.abs(train_scores)\n",
    "  valid_scores = np.abs(valid_scores)\n",
    "  ax.plot(train_sizes, train_scores.mean(axis = 1), label= 'Training score')\n",
    "  ax.plot(train_sizes, valid_scores.mean(axis = 1), label = 'Cross-validation score')\n",
    "  ax.set_xlabel('Traning set size')\n",
    "  ax.set_xticks(train_sizes)\n",
    "  ax.set_ylabel(y_label)\n",
    "  ax.set_title(title)\n",
    "  ax.legend()\n",
    "  plt.show()\n",
    "  \n",
    "def plot_validation_curve(train_scores, valid_scores, param_name, param_range, y_label = \"Accuracy score\"):\n",
    "  fig, ax = plt.subplots(figsize= (8, 7))\n",
    "  train_scores = np.abs(train_scores)\n",
    "  valid_scores = np.abs(valid_scores)\n",
    "  ax.plot(param_range, train_scores.mean(axis = 1), label = 'Training score')\n",
    "  ax.plot(param_range, valid_scores.mean(axis = 1), label = 'Cross-validation score')\n",
    "  ax.set_xlabel(param_name)\n",
    "  ax.set_ylabel(y_label)\n",
    "  ax.set_title(\"Validation Curve for \" + param_name )\n",
    "  ax.set_xticks(param_range)\n",
    "  ax.legend()\n",
    "  plt.show()"
   ]
  },
  {
   "cell_type": "markdown",
   "metadata": {},
   "source": [
    "Dataframe `df_results` for saving the result of different models."
   ]
  },
  {
   "cell_type": "code",
   "execution_count": 18,
   "metadata": {},
   "outputs": [],
   "source": [
    "df_results = pd.DataFrame(columns=[\"Model\", \"Parameter\", \"Training accuracy\", \"Test accuracy\", \"Evaluation techniques\"])"
   ]
  },
  {
   "cell_type": "code",
   "execution_count": 19,
   "metadata": {},
   "outputs": [],
   "source": [
    "X_train, X_test, y_train, y_test = train_test_split(X, y ,test_size= 0.2, shuffle=True, stratify=y, random_state=RANDOM_STATE)"
   ]
  },
  {
   "cell_type": "code",
   "execution_count": 20,
   "metadata": {},
   "outputs": [
    {
     "data": {
      "text/plain": [
       "((1669, 16), (418, 16), (1669,), (418,))"
      ]
     },
     "execution_count": 20,
     "metadata": {},
     "output_type": "execute_result"
    }
   ],
   "source": [
    "X_train.shape, X_test.shape, y_train.shape, y_test.shape"
   ]
  },
  {
   "cell_type": "code",
   "execution_count": 21,
   "metadata": {},
   "outputs": [],
   "source": [
    "metrics = {'accuracy': accuracy_scorer, 'f1': f1_scorer}"
   ]
  },
  {
   "cell_type": "markdown",
   "metadata": {},
   "source": [
    "<a name=\"training-evaluation\"></a>\n",
    "## 5. Model training and evaluation\n",
    "- Evaluation technique: *Stratified sampling*\n",
    "- Baseline model only "
   ]
  },
  {
   "cell_type": "markdown",
   "metadata": {},
   "source": [
    "### Logistic Regression"
   ]
  },
  {
   "cell_type": "code",
   "execution_count": 22,
   "metadata": {},
   "outputs": [
    {
     "name": "stdout",
     "output_type": "stream",
     "text": [
      "Training Accuracy: 0.8526063511084482\n",
      "Test Accuracy: 0.8181818181818182\n",
      "                     precision    recall  f1-score   support\n",
      "\n",
      "Insufficient_Weight       0.87      0.89      0.88        53\n",
      "      Normal_Weight       0.76      0.72      0.74        57\n",
      "     Obesity_Type_I       0.82      0.84      0.83        70\n",
      "    Obesity_Type_II       0.91      0.98      0.94        60\n",
      "   Obesity_Type_III       1.00      0.98      0.99        65\n",
      " Overweight_Level_I       0.69      0.67      0.68        55\n",
      "Overweight_Level_II       0.64      0.60      0.62        58\n",
      "\n",
      "           accuracy                           0.82       418\n",
      "          macro avg       0.81      0.81      0.81       418\n",
      "       weighted avg       0.82      0.82      0.82       418\n",
      "\n"
     ]
    }
   ],
   "source": [
    "lr = LogisticRegression(max_iter=10000, random_state=RANDOM_STATE)\n",
    "\n",
    "lr.fit(X_train, y_train)\n",
    "y_pred_train_lr = lr.predict(X_train)\n",
    "lr_train_acc = accuracy_score(y_train, y_pred_train_lr)\n",
    "\n",
    "y_pred_test_lr = lr.predict(X_test)\n",
    "lr_test_acc = accuracy_score(y_test, y_pred_test_lr)\n",
    "\n",
    "print(\"Training Accuracy:\", lr_train_acc)\n",
    "print(\"Test Accuracy:\", lr_test_acc)\n",
    "print(classification_report(y_test, y_pred_test_lr))"
   ]
  },
  {
   "cell_type": "code",
   "execution_count": 23,
   "metadata": {},
   "outputs": [],
   "source": [
    "new_row = pd.DataFrame({\"Model\": [\"Logistic Regression\"],\n",
    "                        \"Parameter\": [\"max_iter = 10000\"],\n",
    "                        \"Training accuracy\": [0.85],\n",
    "                        \"Test accuracy\": [0.82],\n",
    "                        \"Evaluation techniques\": [\"Stratified sampling\"]})\n",
    "\n",
    "df_results = pd.concat([df_results, new_row], ignore_index=True)"
   ]
  },
  {
   "cell_type": "code",
   "execution_count": 24,
   "metadata": {},
   "outputs": [
    {
     "data": {
      "image/png": "[encoded data removed]",
      "text/plain": [
       "<Figure size 1000x600 with 1 Axes>"
      ]
     },
     "metadata": {},
     "output_type": "display_data"
    }
   ],
   "source": [
    "# Learning Curve\n",
    "train_sizes, train_scores, valid_scores = learning_curve(lr, X_train, y_train, train_sizes=[100, 300, 500, 700, 900, 1100, 1330], scoring = accuracy_scorer)\n",
    "plot_learning_curve(train_sizes, train_scores, valid_scores, title = \"Learning Curve of Logistic Regression\", y_label = \"Accuracy Score\")"
   ]
  },
  {
   "cell_type": "markdown",
   "metadata": {},
   "source": [
    "#### Predict new instances"
   ]
  },
  {
   "cell_type": "code",
   "execution_count": 25,
   "metadata": {},
   "outputs": [
    {
     "data": {
      "text/html": [
       "<div>\n",
       "<style scoped>\n",
       "    .dataframe tbody tr th:only-of-type {\n",
       "        vertical-align: middle;\n",
       "    }\n",
       "\n",
       "    .dataframe tbody tr th {\n",
       "        vertical-align: top;\n",
       "    }\n",
       "\n",
       "    .dataframe thead th {\n",
       "        text-align: right;\n",
       "    }\n",
       "</style>\n",
       "<table border=\"1\" class=\"dataframe\">\n",
       "  <thead>\n",
       "    <tr style=\"text-align: right;\">\n",
       "      <th></th>\n",
       "      <th>Gender</th>\n",
       "      <th>Age</th>\n",
       "      <th>Height</th>\n",
       "      <th>Weight</th>\n",
       "      <th>family_history_with_overweight</th>\n",
       "      <th>FAVC</th>\n",
       "      <th>FCVC</th>\n",
       "      <th>NCP</th>\n",
       "      <th>CAEC</th>\n",
       "      <th>SMOKE</th>\n",
       "      <th>CH2O</th>\n",
       "      <th>SCC</th>\n",
       "      <th>FAF</th>\n",
       "      <th>TUE</th>\n",
       "      <th>CALC</th>\n",
       "      <th>MTRANS</th>\n",
       "    </tr>\n",
       "  </thead>\n",
       "  <tbody>\n",
       "    <tr>\n",
       "      <th>0</th>\n",
       "      <td>1</td>\n",
       "      <td>17</td>\n",
       "      <td>1.7</td>\n",
       "      <td>70</td>\n",
       "      <td>0</td>\n",
       "      <td>1</td>\n",
       "      <td>2</td>\n",
       "      <td>3</td>\n",
       "      <td>2</td>\n",
       "      <td>0</td>\n",
       "      <td>3</td>\n",
       "      <td>1</td>\n",
       "      <td>1</td>\n",
       "      <td>1</td>\n",
       "      <td>3</td>\n",
       "      <td>3</td>\n",
       "    </tr>\n",
       "  </tbody>\n",
       "</table>\n",
       "</div>"
      ],
      "text/plain": [
       "   Gender  Age  Height  Weight  family_history_with_overweight  FAVC  FCVC  \\\n",
       "0       1   17     1.7      70                               0     1     2   \n",
       "\n",
       "   NCP  CAEC  SMOKE  CH2O  SCC  FAF  TUE  CALC  MTRANS  \n",
       "0    3     2      0     3    1    1    1     3       3  "
      ]
     },
     "execution_count": 25,
     "metadata": {},
     "output_type": "execute_result"
    }
   ],
   "source": [
    "temp = pd.DataFrame({\n",
    "    'Gender': ['Male'],\n",
    "    'Age': [17],\n",
    "    'Height': [1.7],\n",
    "    'Weight': [70],\n",
    "    'family_history_with_overweight': ['no'],\n",
    "    'FAVC': ['yes'],\n",
    "    'FCVC': [2],\n",
    "    'NCP': [3],\n",
    "    'CAEC': ['Sometimes'],\n",
    "    'SMOKE': ['no'],\n",
    "    'CH2O': [3],\n",
    "    'SCC': ['yes'],\n",
    "    'FAF': [1],\n",
    "    'TUE': [1],\n",
    "    'CALC': ['no'],\n",
    "    'MTRANS': ['Public_Transportation']\n",
    "})\n",
    "temp_clean = simple_data_preprocessing_testing(temp)\n",
    "temp_clean"
   ]
  },
  {
   "cell_type": "code",
   "execution_count": 26,
   "metadata": {},
   "outputs": [
    {
     "data": {
      "text/plain": [
       "array(['Overweight_Level_I'], dtype=object)"
      ]
     },
     "execution_count": 26,
     "metadata": {},
     "output_type": "execute_result"
    }
   ],
   "source": [
    "lr.predict(temp_clean)"
   ]
  },
  {
   "cell_type": "code",
   "execution_count": 27,
   "metadata": {},
   "outputs": [
    {
     "data": {
      "text/html": [
       "<div>\n",
       "<style scoped>\n",
       "    .dataframe tbody tr th:only-of-type {\n",
       "        vertical-align: middle;\n",
       "    }\n",
       "\n",
       "    .dataframe tbody tr th {\n",
       "        vertical-align: top;\n",
       "    }\n",
       "\n",
       "    .dataframe thead th {\n",
       "        text-align: right;\n",
       "    }\n",
       "</style>\n",
       "<table border=\"1\" class=\"dataframe\">\n",
       "  <thead>\n",
       "    <tr style=\"text-align: right;\">\n",
       "      <th></th>\n",
       "      <th>Gender</th>\n",
       "      <th>Age</th>\n",
       "      <th>Height</th>\n",
       "      <th>Weight</th>\n",
       "      <th>family_history_with_overweight</th>\n",
       "      <th>FAVC</th>\n",
       "      <th>FCVC</th>\n",
       "      <th>NCP</th>\n",
       "      <th>CAEC</th>\n",
       "      <th>SMOKE</th>\n",
       "      <th>CH2O</th>\n",
       "      <th>SCC</th>\n",
       "      <th>FAF</th>\n",
       "      <th>TUE</th>\n",
       "      <th>CALC</th>\n",
       "      <th>MTRANS</th>\n",
       "    </tr>\n",
       "  </thead>\n",
       "  <tbody>\n",
       "    <tr>\n",
       "      <th>0</th>\n",
       "      <td>0</td>\n",
       "      <td>26</td>\n",
       "      <td>1.62495</td>\n",
       "      <td>111.946321</td>\n",
       "      <td>1</td>\n",
       "      <td>1</td>\n",
       "      <td>3</td>\n",
       "      <td>3</td>\n",
       "      <td>2</td>\n",
       "      <td>0</td>\n",
       "      <td>2.770125</td>\n",
       "      <td>0</td>\n",
       "      <td>0</td>\n",
       "      <td>0.09776</td>\n",
       "      <td>2</td>\n",
       "      <td>3</td>\n",
       "    </tr>\n",
       "  </tbody>\n",
       "</table>\n",
       "</div>"
      ],
      "text/plain": [
       "   Gender  Age   Height      Weight  family_history_with_overweight  FAVC  \\\n",
       "0       0   26  1.62495  111.946321                               1     1   \n",
       "\n",
       "   FCVC  NCP  CAEC  SMOKE      CH2O  SCC  FAF      TUE  CALC  MTRANS  \n",
       "0     3    3     2      0  2.770125    0    0  0.09776     2       3  "
      ]
     },
     "execution_count": 27,
     "metadata": {},
     "output_type": "execute_result"
    }
   ],
   "source": [
    "temp = pd.DataFrame({\n",
    "    'Gender': ['Female'],\n",
    "    'Age': [26],\n",
    "    'Height': [1.62495],\n",
    "    'Weight': [111.946321],\n",
    "    'family_history_with_overweight': ['yes'],\n",
    "    'FAVC': ['yes'],\n",
    "    'FCVC': [3],\n",
    "    'NCP': [3],\n",
    "    'CAEC': ['Sometimes'],\n",
    "    'SMOKE': ['no'],\n",
    "    'CH2O': [2.770125],\n",
    "    'SCC': ['no'],\n",
    "    'FAF': [0],\n",
    "    'TUE': [0.09776],\n",
    "    'CALC': ['Sometimes'],\n",
    "    'MTRANS': ['Public_Transportation']\n",
    "})\n",
    "temp_clean = simple_data_preprocessing_testing(temp)\n",
    "temp_clean"
   ]
  },
  {
   "cell_type": "code",
   "execution_count": 28,
   "metadata": {},
   "outputs": [
    {
     "data": {
      "text/plain": [
       "array(['Obesity_Type_III'], dtype=object)"
      ]
     },
     "execution_count": 28,
     "metadata": {},
     "output_type": "execute_result"
    }
   ],
   "source": [
    "lr.predict(temp_clean)"
   ]
  },
  {
   "cell_type": "markdown",
   "metadata": {},
   "source": [
    "### Decision tree"
   ]
  },
  {
   "cell_type": "code",
   "execution_count": 29,
   "metadata": {},
   "outputs": [
    {
     "name": "stdout",
     "output_type": "stream",
     "text": [
      "Training Accuracy: 1.0\n",
      "Test Accuracy: 0.9258373205741627\n",
      "                     precision    recall  f1-score   support\n",
      "\n",
      "Insufficient_Weight       0.98      0.92      0.95        53\n",
      "      Normal_Weight       0.83      0.86      0.84        57\n",
      "     Obesity_Type_I       0.94      0.94      0.94        70\n",
      "    Obesity_Type_II       0.98      0.98      0.98        60\n",
      "   Obesity_Type_III       1.00      0.98      0.99        65\n",
      " Overweight_Level_I       0.83      0.80      0.81        55\n",
      "Overweight_Level_II       0.90      0.97      0.93        58\n",
      "\n",
      "           accuracy                           0.93       418\n",
      "          macro avg       0.92      0.92      0.92       418\n",
      "       weighted avg       0.93      0.93      0.93       418\n",
      "\n"
     ]
    }
   ],
   "source": [
    "dt = DecisionTreeClassifier(random_state=RANDOM_STATE)\n",
    "\n",
    "dt.fit(X_train, y_train)\n",
    "y_pred_train_dt = dt.predict(X_train)\n",
    "dt_train_acc = accuracy_score(y_train, y_pred_train_dt)\n",
    "\n",
    "y_pred_test_dt = dt.predict(X_test)\n",
    "dt_test_acc = accuracy_score(y_test, y_pred_test_dt)\n",
    "\n",
    "print(\"Training Accuracy:\", dt_train_acc)\n",
    "print(\"Test Accuracy:\", dt_test_acc)\n",
    "print(classification_report(y_test, y_pred_test_dt))"
   ]
  },
  {
   "cell_type": "code",
   "execution_count": 30,
   "metadata": {},
   "outputs": [],
   "source": [
    "new_row = pd.DataFrame({\"Model\": [\"Decision Tree\"],\n",
    "                        \"Parameter\": [\"None\"],\n",
    "                        \"Training accuracy\": [1.00],\n",
    "                        \"Test accuracy\": [0.93],\n",
    "                        \"Evaluation techniques\": [\"Stratified sampling\"]})\n",
    "\n",
    "df_results = pd.concat([df_results, new_row], ignore_index=True)"
   ]
  },
  {
   "cell_type": "code",
   "execution_count": 31,
   "metadata": {},
   "outputs": [
    {
     "data": {
      "image/png": "[encoded data removed]",
      "text/plain": [
       "<Figure size 1000x600 with 1 Axes>"
      ]
     },
     "metadata": {},
     "output_type": "display_data"
    }
   ],
   "source": [
    "train_sizes, train_scores, valid_scores = learning_curve(dt, X_train, y_train, train_sizes=[100, 300, 500, 700, 900, 1100, 1330], scoring = accuracy_scorer)\n",
    "plot_learning_curve(train_sizes, train_scores, valid_scores, title = \"Learning Curve of Decision Tree\", y_label = \"Accuracy Score\")"
   ]
  },
  {
   "cell_type": "markdown",
   "metadata": {},
   "source": [
    "Decision Tree tends to be overfitting if we increase the training size."
   ]
  },
  {
   "cell_type": "markdown",
   "metadata": {},
   "source": [
    "### Random forest"
   ]
  },
  {
   "cell_type": "code",
   "execution_count": 32,
   "metadata": {},
   "outputs": [
    {
     "name": "stdout",
     "output_type": "stream",
     "text": [
      "Training Accuracy: 1.0\n",
      "Test Accuracy: 0.9545454545454546\n",
      "                     precision    recall  f1-score   support\n",
      "\n",
      "Insufficient_Weight       1.00      0.94      0.97        53\n",
      "      Normal_Weight       0.84      0.95      0.89        57\n",
      "     Obesity_Type_I       1.00      0.97      0.99        70\n",
      "    Obesity_Type_II       0.98      1.00      0.99        60\n",
      "   Obesity_Type_III       1.00      0.98      0.99        65\n",
      " Overweight_Level_I       0.89      0.91      0.90        55\n",
      "Overweight_Level_II       0.96      0.91      0.94        58\n",
      "\n",
      "           accuracy                           0.95       418\n",
      "          macro avg       0.95      0.95      0.95       418\n",
      "       weighted avg       0.96      0.95      0.96       418\n",
      "\n"
     ]
    }
   ],
   "source": [
    "rf = RandomForestClassifier(random_state=RANDOM_STATE)\n",
    "rf.fit(X_train, y_train)\n",
    "\n",
    "y_pred_train_rf = rf.predict(X_train)\n",
    "rf_train_acc = accuracy_score(y_train, y_pred_train_rf)\n",
    "\n",
    "y_pred_test_rf = rf.predict(X_test)\n",
    "rf_test_acc = accuracy_score(y_test, y_pred_test_rf)\n",
    "\n",
    "print(\"Training Accuracy:\", rf_train_acc)\n",
    "print(\"Test Accuracy:\", rf_test_acc)\n",
    "print(classification_report(y_test, y_pred_test_rf))"
   ]
  },
  {
   "cell_type": "code",
   "execution_count": 33,
   "metadata": {},
   "outputs": [],
   "source": [
    "new_row = pd.DataFrame({\"Model\": [\"Random Forest\"],\n",
    "                        \"Parameter\": [\"None\"],\n",
    "                        \"Training accuracy\": [1.00],\n",
    "                        \"Test accuracy\": [0.95],\n",
    "                        \"Evaluation techniques\": [\"Stratified sampling\"]})\n",
    "\n",
    "df_results = pd.concat([df_results, new_row], ignore_index=True)"
   ]
  },
  {
   "cell_type": "code",
   "execution_count": 34,
   "metadata": {},
   "outputs": [
    {
     "data": {
      "image/png": "[encoded data removed]",
      "text/plain": [
       "<Figure size 1000x600 with 1 Axes>"
      ]
     },
     "metadata": {},
     "output_type": "display_data"
    }
   ],
   "source": [
    "# Learning Curve\n",
    "train_sizes, train_scores, valid_scores = learning_curve(rf, X_train, y_train, train_sizes=[100, 300, 500, 700, 900, 1100, 1330], scoring = accuracy_scorer)\n",
    "plot_learning_curve(train_sizes, train_scores, valid_scores, title = \"Learning Curve of Random Forest\", y_label = \"Accuracy Score\")"
   ]
  },
  {
   "cell_type": "markdown",
   "metadata": {},
   "source": [
    "### SVM"
   ]
  },
  {
   "cell_type": "code",
   "execution_count": 35,
   "metadata": {},
   "outputs": [
    {
     "name": "stdout",
     "output_type": "stream",
     "text": [
      "Training Accuracy: 0.5380467345715998\n",
      "Test Accuracy: 0.5263157894736842\n",
      "                     precision    recall  f1-score   support\n",
      "\n",
      "Insufficient_Weight       0.74      0.87      0.80        53\n",
      "      Normal_Weight       0.51      0.37      0.43        57\n",
      "     Obesity_Type_I       0.36      0.34      0.35        70\n",
      "    Obesity_Type_II       0.65      0.67      0.66        60\n",
      "   Obesity_Type_III       0.57      0.49      0.53        65\n",
      " Overweight_Level_I       0.45      0.42      0.43        55\n",
      "Overweight_Level_II       0.43      0.59      0.50        58\n",
      "\n",
      "           accuracy                           0.53       418\n",
      "          macro avg       0.53      0.53      0.53       418\n",
      "       weighted avg       0.52      0.53      0.52       418\n",
      "\n"
     ]
    }
   ],
   "source": [
    "svc = SVC()\n",
    "svc.fit(X_train, y_train)\n",
    "y_pred_train_svc = svc.predict(X_train)\n",
    "svc_train_acc = accuracy_score(y_train, y_pred_train_svc)\n",
    "\n",
    "y_pred_test_svc = svc.predict(X_test)\n",
    "svc_test_acc = accuracy_score(y_test, y_pred_test_svc)\n",
    "\n",
    "print(\"Training Accuracy:\", svc_train_acc)\n",
    "print(\"Test Accuracy:\", svc_test_acc)\n",
    "print(classification_report(y_test, y_pred_test_svc))"
   ]
  },
  {
   "cell_type": "code",
   "execution_count": 36,
   "metadata": {},
   "outputs": [],
   "source": [
    "new_row = pd.DataFrame({\"Model\": [\"SVM\"],\n",
    "                        \"Parameter\": [\"None\"],\n",
    "                        \"Training accuracy\": [0.54],\n",
    "                        \"Test accuracy\": [0.54],\n",
    "                        \"Evaluation techniques\": [\"Stratified sampling\"]})\n",
    "\n",
    "df_results = pd.concat([df_results, new_row], ignore_index=True)"
   ]
  },
  {
   "cell_type": "code",
   "execution_count": 37,
   "metadata": {},
   "outputs": [
    {
     "data": {
      "image/png": "[encoded data removed]",
      "text/plain": [
       "<Figure size 1000x600 with 1 Axes>"
      ]
     },
     "metadata": {},
     "output_type": "display_data"
    }
   ],
   "source": [
    "train_sizes, train_scores, valid_scores = learning_curve(svc, X_train, y_train, train_sizes=[100, 300, 500, 700, 900, 1100, 1330], scoring = accuracy_scorer)\n",
    "plot_learning_curve(train_sizes, train_scores, valid_scores, title = \"Learning Curve of SVM\", y_label = \"Accuracy Score\")"
   ]
  },
  {
   "cell_type": "markdown",
   "metadata": {},
   "source": [
    "### XGBoost"
   ]
  },
  {
   "cell_type": "markdown",
   "metadata": {},
   "source": [
    "First of all, we need to map our target labels into numeric values."
   ]
  },
  {
   "cell_type": "code",
   "execution_count": 38,
   "metadata": {},
   "outputs": [],
   "source": [
    "mapping = {'Insufficient_Weight': 0, 'Normal_Weight': 1, 'Overweight_Level_I': 2, 'Overweight_Level_II': 3, 'Obesity_Type_I': 4, 'Obesity_Type_II': 5, 'Obesity_Type_III': 6}\n",
    "y_train_encode = y_train.map(mapping)\n",
    "y_test_encode = y_test.map(mapping)"
   ]
  },
  {
   "cell_type": "code",
   "execution_count": 39,
   "metadata": {},
   "outputs": [
    {
     "name": "stdout",
     "output_type": "stream",
     "text": [
      "Training Accuracy: 1.0\n",
      "Test Accuracy: 0.9688995215311005\n",
      "              precision    recall  f1-score   support\n",
      "\n",
      "           0       1.00      1.00      1.00        53\n",
      "           1       0.95      0.93      0.94        57\n",
      "           2       0.89      0.93      0.91        55\n",
      "           3       0.97      0.98      0.97        58\n",
      "           4       1.00      0.96      0.98        70\n",
      "           5       0.97      1.00      0.98        60\n",
      "           6       1.00      0.98      0.99        65\n",
      "\n",
      "    accuracy                           0.97       418\n",
      "   macro avg       0.97      0.97      0.97       418\n",
      "weighted avg       0.97      0.97      0.97       418\n",
      "\n"
     ]
    }
   ],
   "source": [
    "xgbModel = XGBClassifier(random_state=RANDOM_STATE)\n",
    "\n",
    "xgbModel.fit(X_train, y_train_encode)\n",
    "y_pred_train_xgb = xgbModel.predict(X_train)\n",
    "xgb_train_acc = accuracy_score(y_train_encode, y_pred_train_xgb)\n",
    "\n",
    "y_pred_test_xgb = xgbModel.predict(X_test)\n",
    "xgb_test_acc = accuracy_score(y_test_encode, y_pred_test_xgb)\n",
    "\n",
    "print(\"Training Accuracy:\", xgb_train_acc)\n",
    "print(\"Test Accuracy:\", xgb_test_acc)\n",
    "print(classification_report(y_test_encode, y_pred_test_xgb))"
   ]
  },
  {
   "cell_type": "code",
   "execution_count": 40,
   "metadata": {},
   "outputs": [],
   "source": [
    "new_row = pd.DataFrame({\"Model\": [\"XGBoost\"],\n",
    "                        \"Parameter\": [\"None\"],\n",
    "                        \"Training accuracy\": [1.00],\n",
    "                        \"Test accuracy\": [0.98],\n",
    "                        \"Evaluation techniques\": [\"Stratified sampling\"]})\n",
    "\n",
    "df_results = pd.concat([df_results, new_row], ignore_index=True)"
   ]
  },
  {
   "cell_type": "code",
   "execution_count": 41,
   "metadata": {},
   "outputs": [
    {
     "data": {
      "image/png": "[encoded data removed]",
      "text/plain": [
       "<Figure size 1000x600 with 1 Axes>"
      ]
     },
     "metadata": {},
     "output_type": "display_data"
    }
   ],
   "source": [
    "# Learning Curve\n",
    "train_sizes, train_scores, valid_scores = learning_curve(xgbModel, X_train, y_train_encode, train_sizes=[100, 300, 500, 700, 900, 1100, 1330], scoring = accuracy_scorer)\n",
    "plot_learning_curve(train_sizes, train_scores, valid_scores, title = \"Learning Curve of XGBoost\", y_label = \"Accuracy Score\")"
   ]
  },
  {
   "cell_type": "markdown",
   "metadata": {},
   "source": [
    "### K-Nearest Neighbors"
   ]
  },
  {
   "cell_type": "code",
   "execution_count": 42,
   "metadata": {},
   "outputs": [
    {
     "name": "stdout",
     "output_type": "stream",
     "text": [
      "Training Accuracy: 0.9107249850209707\n",
      "Test Accuracy: 0.8947368421052632\n",
      "                     precision    recall  f1-score   support\n",
      "\n",
      "Insufficient_Weight       0.87      0.98      0.92        53\n",
      "      Normal_Weight       0.97      0.58      0.73        57\n",
      "     Obesity_Type_I       0.93      0.96      0.94        70\n",
      "    Obesity_Type_II       0.95      1.00      0.98        60\n",
      "   Obesity_Type_III       1.00      0.97      0.98        65\n",
      " Overweight_Level_I       0.74      0.89      0.81        55\n",
      "Overweight_Level_II       0.83      0.86      0.85        58\n",
      "\n",
      "           accuracy                           0.89       418\n",
      "          macro avg       0.90      0.89      0.89       418\n",
      "       weighted avg       0.90      0.89      0.89       418\n",
      "\n"
     ]
    }
   ],
   "source": [
    "knn = KNeighborsClassifier()\n",
    "\n",
    "knn.fit(X_train, y_train)\n",
    "y_pred_train_knn = knn.predict(X_train)\n",
    "knn_train_acc = accuracy_score(y_train, y_pred_train_knn)\n",
    "\n",
    "y_pred_test_knn = knn.predict(X_test)\n",
    "knn_test_acc = accuracy_score(y_test, y_pred_test_knn)\n",
    "\n",
    "print(\"Training Accuracy:\", knn_train_acc)\n",
    "print(\"Test Accuracy:\", knn_test_acc)\n",
    "print(classification_report(y_test, y_pred_test_knn))"
   ]
  },
  {
   "cell_type": "code",
   "execution_count": 43,
   "metadata": {},
   "outputs": [],
   "source": [
    "new_row = pd.DataFrame({\"Model\": [\"K-Nearest Neighbors\"],\n",
    "                        \"Parameter\": [\"None\"],\n",
    "                        \"Training accuracy\": [0.91],\n",
    "                        \"Test accuracy\": [0.89],\n",
    "                        \"Evaluation techniques\": [\"Stratified sampling\"]})\n",
    "\n",
    "df_results = pd.concat([df_results, new_row], ignore_index=True)"
   ]
  },
  {
   "cell_type": "code",
   "execution_count": 44,
   "metadata": {},
   "outputs": [
    {
     "data": {
      "image/png": "[encoded data removed]",
      "text/plain": [
       "<Figure size 1000x600 with 1 Axes>"
      ]
     },
     "metadata": {},
     "output_type": "display_data"
    }
   ],
   "source": [
    "train_sizes, train_scores, valid_scores = learning_curve(knn, X_train, y_train, train_sizes=[100, 300, 500, 700, 900, 1100, 1330], scoring = accuracy_scorer)\n",
    "plot_learning_curve(train_sizes, train_scores, valid_scores, title = \"Learning Curve of KNN\", y_label = \"Accuracy Score\")"
   ]
  },
  {
   "cell_type": "code",
   "execution_count": 45,
   "metadata": {},
   "outputs": [
    {
     "data": {
      "text/plain": [
       "<AxesSubplot: >"
      ]
     },
     "execution_count": 45,
     "metadata": {},
     "output_type": "execute_result"
    },
    {
     "data": {
      "image/png": "[encoded data removed]",
      "text/plain": [
       "<Figure size 640x480 with 1 Axes>"
      ]
     },
     "metadata": {},
     "output_type": "display_data"
    }
   ],
   "source": [
    "# The higher the chi-square value, the more important the feature is\n",
    "chi_score = chi2(X_train, y_train)\n",
    "chi_values = pd.Series(chi_score[0], index=X_train.columns)\n",
    "chi_values.sort_values(ascending=False, inplace=True)\n",
    "chi_values.plot.bar()"
   ]
  },
  {
   "cell_type": "code",
   "execution_count": 46,
   "metadata": {},
   "outputs": [],
   "source": [
    "#temporary\n",
    "k_best = SelectKBest(chi2, k=12)\n",
    "X_traintemp = k_best.fit_transform(X_train, y_train)\n",
    "X_testtemp = k_best.transform(X_test)"
   ]
  },
  {
   "cell_type": "code",
   "execution_count": 47,
   "metadata": {},
   "outputs": [
    {
     "data": {
      "text/html": [
       "<style type=\"text/css\">\n",
       "#T_51d56 th {\n",
       "  font-size: 100%;\n",
       "  text-align: center;\n",
       "}\n",
       "#T_51d56_row0_col0, #T_51d56_row0_col1, #T_51d56_row0_col2, #T_51d56_row0_col3, #T_51d56_row0_col4, #T_51d56_row1_col0, #T_51d56_row1_col1, #T_51d56_row1_col2, #T_51d56_row1_col3, #T_51d56_row1_col4, #T_51d56_row2_col0, #T_51d56_row2_col1, #T_51d56_row2_col2, #T_51d56_row2_col3, #T_51d56_row2_col4, #T_51d56_row3_col0, #T_51d56_row3_col1, #T_51d56_row3_col2, #T_51d56_row3_col3, #T_51d56_row3_col4, #T_51d56_row4_col0, #T_51d56_row4_col1, #T_51d56_row4_col2, #T_51d56_row4_col3, #T_51d56_row4_col4, #T_51d56_row5_col0, #T_51d56_row5_col1, #T_51d56_row5_col2, #T_51d56_row5_col3, #T_51d56_row5_col4 {\n",
       "  text-align: center;\n",
       "  white-space: pre-wrap;\n",
       "}\n",
       "</style>\n",
       "<table id=\"T_51d56\">\n",
       "  <thead>\n",
       "    <tr>\n",
       "      <th class=\"blank level0\" >&nbsp;</th>\n",
       "      <th id=\"T_51d56_level0_col0\" class=\"col_heading level0 col0\" >Model</th>\n",
       "      <th id=\"T_51d56_level0_col1\" class=\"col_heading level0 col1\" >Parameter</th>\n",
       "      <th id=\"T_51d56_level0_col2\" class=\"col_heading level0 col2\" >Training accuracy</th>\n",
       "      <th id=\"T_51d56_level0_col3\" class=\"col_heading level0 col3\" >Test accuracy</th>\n",
       "      <th id=\"T_51d56_level0_col4\" class=\"col_heading level0 col4\" >Evaluation techniques</th>\n",
       "    </tr>\n",
       "  </thead>\n",
       "  <tbody>\n",
       "    <tr>\n",
       "      <th id=\"T_51d56_level0_row0\" class=\"row_heading level0 row0\" >0</th>\n",
       "      <td id=\"T_51d56_row0_col0\" class=\"data row0 col0\" >Logistic Regression</td>\n",
       "      <td id=\"T_51d56_row0_col1\" class=\"data row0 col1\" >max_iter = 10000</td>\n",
       "      <td id=\"T_51d56_row0_col2\" class=\"data row0 col2\" >0.85</td>\n",
       "      <td id=\"T_51d56_row0_col3\" class=\"data row0 col3\" >0.82</td>\n",
       "      <td id=\"T_51d56_row0_col4\" class=\"data row0 col4\" >Stratified sampling</td>\n",
       "    </tr>\n",
       "    <tr>\n",
       "      <th id=\"T_51d56_level0_row1\" class=\"row_heading level0 row1\" >1</th>\n",
       "      <td id=\"T_51d56_row1_col0\" class=\"data row1 col0\" >Decision Tree</td>\n",
       "      <td id=\"T_51d56_row1_col1\" class=\"data row1 col1\" >None</td>\n",
       "      <td id=\"T_51d56_row1_col2\" class=\"data row1 col2\" >1.0</td>\n",
       "      <td id=\"T_51d56_row1_col3\" class=\"data row1 col3\" >0.93</td>\n",
       "      <td id=\"T_51d56_row1_col4\" class=\"data row1 col4\" >Stratified sampling</td>\n",
       "    </tr>\n",
       "    <tr>\n",
       "      <th id=\"T_51d56_level0_row2\" class=\"row_heading level0 row2\" >2</th>\n",
       "      <td id=\"T_51d56_row2_col0\" class=\"data row2 col0\" >Random Forest</td>\n",
       "      <td id=\"T_51d56_row2_col1\" class=\"data row2 col1\" >None</td>\n",
       "      <td id=\"T_51d56_row2_col2\" class=\"data row2 col2\" >1.0</td>\n",
       "      <td id=\"T_51d56_row2_col3\" class=\"data row2 col3\" >0.95</td>\n",
       "      <td id=\"T_51d56_row2_col4\" class=\"data row2 col4\" >Stratified sampling</td>\n",
       "    </tr>\n",
       "    <tr>\n",
       "      <th id=\"T_51d56_level0_row3\" class=\"row_heading level0 row3\" >3</th>\n",
       "      <td id=\"T_51d56_row3_col0\" class=\"data row3 col0\" >SVM</td>\n",
       "      <td id=\"T_51d56_row3_col1\" class=\"data row3 col1\" >None</td>\n",
       "      <td id=\"T_51d56_row3_col2\" class=\"data row3 col2\" >0.54</td>\n",
       "      <td id=\"T_51d56_row3_col3\" class=\"data row3 col3\" >0.54</td>\n",
       "      <td id=\"T_51d56_row3_col4\" class=\"data row3 col4\" >Stratified sampling</td>\n",
       "    </tr>\n",
       "    <tr>\n",
       "      <th id=\"T_51d56_level0_row4\" class=\"row_heading level0 row4\" >4</th>\n",
       "      <td id=\"T_51d56_row4_col0\" class=\"data row4 col0\" >XGBoost</td>\n",
       "      <td id=\"T_51d56_row4_col1\" class=\"data row4 col1\" >None</td>\n",
       "      <td id=\"T_51d56_row4_col2\" class=\"data row4 col2\" >1.0</td>\n",
       "      <td id=\"T_51d56_row4_col3\" class=\"data row4 col3\" >0.98</td>\n",
       "      <td id=\"T_51d56_row4_col4\" class=\"data row4 col4\" >Stratified sampling</td>\n",
       "    </tr>\n",
       "    <tr>\n",
       "      <th id=\"T_51d56_level0_row5\" class=\"row_heading level0 row5\" >5</th>\n",
       "      <td id=\"T_51d56_row5_col0\" class=\"data row5 col0\" >K-Nearest Neighbors</td>\n",
       "      <td id=\"T_51d56_row5_col1\" class=\"data row5 col1\" >None</td>\n",
       "      <td id=\"T_51d56_row5_col2\" class=\"data row5 col2\" >0.91</td>\n",
       "      <td id=\"T_51d56_row5_col3\" class=\"data row5 col3\" >0.89</td>\n",
       "      <td id=\"T_51d56_row5_col4\" class=\"data row5 col4\" >Stratified sampling</td>\n",
       "    </tr>\n",
       "  </tbody>\n",
       "</table>\n"
      ],
      "text/plain": [
       "<pandas.io.formats.style.Styler at 0x1270acae170>"
      ]
     },
     "execution_count": 47,
     "metadata": {},
     "output_type": "execute_result"
    }
   ],
   "source": [
    "df_results.style.format({'Training accuracy' : \"{:.7}\", 'Test accuracy' : \"{:.4}\"}).set_properties(**{\n",
    "    'text-align': 'center',\n",
    "    'white-space': 'pre-wrap',}).set_table_styles([dict(selector=\"th\", props=[(\"font-size\", \"100%\"),\n",
    "                               (\"text-align\", \"center\")])])"
   ]
  }
 ],
 "metadata": {
  "kernelspec": {
   "display_name": "venv",
   "language": "python",
   "name": "python3"
  },
  "language_info": {
   "codemirror_mode": {
    "name": "ipython",
    "version": 3
   },
   "file_extension": ".py",
   "mimetype": "text/x-python",
   "name": "python",
   "nbconvert_exporter": "python",
   "pygments_lexer": "ipython3",
   "version": "3.10.2"
  }
 },
 "nbformat": 4,
 "nbformat_minor": 2
}
